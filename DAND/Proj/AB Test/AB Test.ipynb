{
 "cells": [
  {
   "cell_type": "code",
   "execution_count": null,
   "metadata": {
    "collapsed": true,
    "deletable": true,
    "editable": true
   },
   "outputs": [],
   "source": [
    "import numpy as np\n",
    "import pandas as pd \n",
    "from scipy.stats import binom\n",
    "from scipy.stats import bernoulli\n",
    "from scipy.stats import norm\n",
    "from scipy.stats import binom_test"
   ]
  },
  {
   "cell_type": "code",
   "execution_count": null,
   "metadata": {
    "collapsed": false,
    "deletable": true,
    "editable": true,
    "scrolled": true
   },
   "outputs": [],
   "source": [
    "ctl = pd.read_excel(\"./Final Project Results.xlsx\",sheetname=0)\n",
    "exp = pd.read_excel(\"./Final Project Results.xlsx\",sheetname=1)\n",
    "ctl"
   ]
  },
  {
   "cell_type": "code",
   "execution_count": null,
   "metadata": {
    "collapsed": false,
    "deletable": true,
    "editable": true
   },
   "outputs": [],
   "source": [
    "## readin data \n",
    "ctl = pd.read_excel(\"./Final Project Results.xlsx\",sheetname=0)\n",
    "exp = pd.read_excel(\"./Final Project Results.xlsx\",sheetname=1)\n",
    "\n",
    "\n",
    "## data wrangle\n",
    "ctl[\"Click through\"] = ctl[\"Clicks\"] / ctl[\"Pageviews\"]\n",
    "exp[\"Click through\"] = exp[\"Clicks\"] / exp[\"Pageviews\"]\n",
    "ctl[\"Retention\"] = ctl[\"Payments\"] / ctl[\"Enrollments\"]\n",
    "exp[\"Retention\"] = exp[\"Payments\"] / exp[\"Enrollments\"]\n",
    "ctl[\"Gross conversion\"] = ctl[\"Enrollments\"] / ctl[\"Clicks\"]\n",
    "exp[\"Gross conversion\"] = exp[\"Enrollments\"] / exp[\"Clicks\"]\n",
    "ctl[\"Net conversion\"] = ctl[\"Payments\"] / ctl[\"Clicks\"]\n",
    "exp[\"Net conversion\"] = exp[\"Payments\"] / exp[\"Clicks\"]"
   ]
  },
  {
   "cell_type": "code",
   "execution_count": null,
   "metadata": {
    "collapsed": false,
    "deletable": true,
    "editable": true
   },
   "outputs": [],
   "source": []
  },
  {
   "cell_type": "code",
   "execution_count": null,
   "metadata": {
    "collapsed": false,
    "deletable": true,
    "editable": true
   },
   "outputs": [],
   "source": [
    "diff = (exp[\"Click through\"] - ctl[\"Click through\"])\n",
    "print(\"CTP:\",norm.interval(0.95,0,diff.std()))\n",
    "lower,uper = norm.interval(0.95,0,diff.std())\n",
    "# diff[(diff < lower && diff > uper)]\n",
    "\n",
    "# print (\"ob_CTP:\", ctl[\"Click through\"].mean())\n",
    "# print (\"-\" *64)"
   ]
  },
  {
   "cell_type": "code",
   "execution_count": null,
   "metadata": {
    "collapsed": false,
    "deletable": true,
    "editable": true
   },
   "outputs": [],
   "source": [
    "###sanity check\n",
    "### Cookie\n",
    "n_pv = exp[\"Pageviews\"].sum() + ctl[\"Pageviews\"].sum()\n",
    "print (\"pv:\",np.array(binom.interval(0.95,n_pv,0.5))/n_pv)\n",
    "print (\"ob_pv:\", ctl[\"Pageviews\"].sum()/n_pv)\n",
    "print (\"-\" *64)\n",
    "\n",
    "### click\n",
    "n_clk = exp[\"Clicks\"].sum() + ctl[\"Clicks\"].sum()\n",
    "print (\"clk:\",np.array(binom.interval(0.95,n_clk,0.5))/n_clk)\n",
    "print (\"ob_clk:\", ctl[\"Clicks\"].sum()/n_clk)\n",
    "print (\"-\" *64)\n",
    "\n",
    "### CTR \n",
    "p_pool = (ctl[\"Clicks\"].sum() + exp[\"Clicks\"].sum()) / (ctl[\"Pageviews\"].sum()+exp[\"Pageviews\"].sum())\n",
    "std_pool = np.sqrt(p_pool*(1-p_pool)*(1/ctl[\"Pageviews\"].sum()+1/exp[\"Pageviews\"].sum()))\n",
    "print(\"ob_CTR:\",exp[\"Click through\"].mean())\n",
    "print(\"CTR:\",norm.interval(0.95,p_pool,std_pool))\n"
   ]
  },
  {
   "cell_type": "code",
   "execution_count": null,
   "metadata": {
    "collapsed": false,
    "deletable": true,
    "editable": true
   },
   "outputs": [],
   "source": [
    "### effect test \n",
    "d_1 = (exp[\"Payments\"].sum()/exp[\"Enrollments\"].sum())-(ctl[\"Payments\"].sum()/ctl[\"Enrollments\"].sum())\n",
    "d_2 = (exp[\"Payments\"].sum()/exp[\"Clicks\"].sum())-(ctl[\"Payments\"].sum()/ctl[\"Clicks\"].sum())\n",
    "ese1 = (exp[\"Retention\"]-ctl[\"Retention\"]).std()\n",
    "ese2 = exp[\"Net conversion\"].std()-ctl[\"Net conversion\"].std()\n",
    "\n",
    "p_hat1 = (ctl[\"Payments\"].sum()+exp[\"Payments\"].sum())/(ctl[\"Enrollments\"].sum()+exp[\"Enrollments\"].sum())\n",
    "p_hat2 = (ctl[\"Payments\"].sum()+exp[\"Payments\"].sum())/(ctl[\"Clicks\"].sum()+exp[\"Clicks\"].sum())\n",
    "se1 = np.sqrt(p_hat1*(1-p_hat1)*(1/ctl[\"Enrollments\"].sum()+1/exp[\"Enrollments\"].sum()))\n",
    "se2 = np.sqrt(p_hat2*(1-p_hat2)*(1/ctl[\"Clicks\"].sum()+1/exp[\"Clicks\"].sum()))\n",
    "\n",
    "print (d_1)\n",
    "print (\"statis:\", norm.interval(0.95,d_1,se1))\n",
    "print (d_2)\n",
    "print (\"statis:\", norm.interval(0.95,d_2,se2))"
   ]
  },
  {
   "cell_type": "code",
   "execution_count": null,
   "metadata": {
    "collapsed": false,
    "deletable": true,
    "editable": true,
    "scrolled": true
   },
   "outputs": [],
   "source": [
    "### Retention sign test\n",
    "print ((exp[\"Gross conversion\"] - ctl[\"Gross conversion\"] >0).sum())\n",
    "print (binom_test(4,23,0.20625))\n",
    "\n",
    "print ((exp[\"Retention\"] - ctl[\"Retention\"] >0).sum())\n",
    "print (binom_test(13,23,0.53))\n",
    "\n",
    "print ((exp[\"Net conversion\"] - ctl[\"Net conversion\"] >0).sum())\n",
    "print (binom_test(10,23,0.1093125))"
   ]
  }
 ],
 "metadata": {
  "kernelspec": {
   "display_name": "Python 3",
   "language": "python",
   "name": "python3"
  },
  "language_info": {
   "codemirror_mode": {
    "name": "ipython",
    "version": 3
   },
   "file_extension": ".py",
   "mimetype": "text/x-python",
   "name": "python",
   "nbconvert_exporter": "python",
   "pygments_lexer": "ipython3",
   "version": "3.6.0"
  }
 },
 "nbformat": 4,
 "nbformat_minor": 2
}
